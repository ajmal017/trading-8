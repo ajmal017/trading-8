{
 "cells": [
  {
   "cell_type": "code",
   "execution_count": 1,
   "metadata": {},
   "outputs": [],
   "source": [
    "\"\"\"\n",
    "https://tradingstrategyguides.com/swing-trading-strategies-that-work/\n",
    "\n",
    "It's based on classic technical indicator called \"Bollinger Bands\". It's construced as:\n",
    "- central moving average (MA), which is a simple moving average.\n",
    "- two other moving averages at a distance of +-2 standard dev. away from the central MA\n",
    "\n",
    "There are following steps:\n",
    "#1: Wait for the price to touch the Upper Bollinger Band. It (in theory) means that price is price moving into \n",
    "overbought territory. That is price is relatively too high for given stock and will probably go down.\n",
    "\n",
    "Step #2: Wait for the price to Break below the Middle Bollinger Bands. Such a move acts as confirmation of the \n",
    "shift in market sentiment. In other words - investors realized that stock is overbought and started seeling\n",
    "(hence price is going down)\n",
    "\n",
    "Important Note: the \"breakout\" of the central MA should be so called \"Big Bold Breakout Candle\". That is\n",
    "closing price is near the Low Range of the Candlestick. One should sell at the closing price of the Breakout Candle.\n",
    "\n",
    "This \"Breakout Candle\" is meant to confirm that there are real sellers... What that actually means - It means that\n",
    "one assumes that real sellers stands behind this strong move and it's not just the \"natural\" fluctation of the price.\n",
    "\n",
    "Step #4: Set-up \"Protective Stop Loss\" above the Breakout Candle\n",
    "As a stop loss - high of entry candle is taken. Rationalities behind it is that, as entry move one assumes \n",
    "candle as representation of real market sentiment and sellers. If high of this candle is \"broken\" that is\n",
    "clear sign that in this case there was no real sellers/sentiment.\n",
    "\n",
    "Step #5: Take Profit once we break and close back above the middle Bollinger Bands (central MA)\n",
    "\n",
    "THAT WAS SHORT TRADE EXAMPLE. FOR LONG TRADES THERE ARE SAME STEPS BUT IN REVERSED ORDER\n",
    "\n",
    "\n",
    "My personal thought:\n",
    "- It would be nice to have some sort of expected range of the move. That is - one is setting up stop loss which is \n",
    "fine, but at the same time there is no expected range of the move in preferable direction. That makes calculating\n",
    "reward-to-risk ratio imposibble.\n",
    "- If one have multiple trades to choose (and properly diversify portfolio) then given strategy gives no clues about\n",
    "which trade choose. R2R ratio would be helpfull.\n",
    "- That problem occures not only when we have couple of trades to choose in the same day. One can \"loose\" future trade\n",
    "by choosing the one today - which in reality one is not aware of has small R2RR. \n",
    "- Having method to estimate R2RR and uses it as an additional filter for trades could be good enhacemnet for that\n",
    "strategy.\n",
    "\n",
    "\"\"\";"
   ]
  },
  {
   "cell_type": "code",
   "execution_count": null,
   "metadata": {},
   "outputs": [],
   "source": []
  }
 ],
 "metadata": {
  "kernelspec": {
   "display_name": "Python 3",
   "language": "python",
   "name": "python3"
  },
  "language_info": {
   "codemirror_mode": {
    "name": "ipython",
    "version": 3
   },
   "file_extension": ".py",
   "mimetype": "text/x-python",
   "name": "python",
   "nbconvert_exporter": "python",
   "pygments_lexer": "ipython3",
   "version": "3.6.5"
  }
 },
 "nbformat": 4,
 "nbformat_minor": 2
}

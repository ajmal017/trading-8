{
 "cells": [
  {
   "cell_type": "code",
   "execution_count": 1,
   "metadata": {},
   "outputs": [],
   "source": [
    "import pandas as pd\n",
    "\n",
    "import numpy as np\n",
    "\n",
    "import matplotlib.pyplot as plt"
   ]
  },
  {
   "cell_type": "code",
   "execution_count": 2,
   "metadata": {},
   "outputs": [],
   "source": [
    "pricing_df = pd.read_csv('/Users/slaw/osobiste/gielda/CCC_pricing.csv')"
   ]
  },
  {
   "cell_type": "code",
   "execution_count": 3,
   "metadata": {},
   "outputs": [
    {
     "data": {
      "text/html": [
       "<div>\n",
       "<style scoped>\n",
       "    .dataframe tbody tr th:only-of-type {\n",
       "        vertical-align: middle;\n",
       "    }\n",
       "\n",
       "    .dataframe tbody tr th {\n",
       "        vertical-align: top;\n",
       "    }\n",
       "\n",
       "    .dataframe thead th {\n",
       "        text-align: right;\n",
       "    }\n",
       "</style>\n",
       "<table border=\"1\" class=\"dataframe\">\n",
       "  <thead>\n",
       "    <tr style=\"text-align: right;\">\n",
       "      <th></th>\n",
       "      <th>date</th>\n",
       "      <th>open</th>\n",
       "      <th>high</th>\n",
       "      <th>low</th>\n",
       "      <th>close</th>\n",
       "      <th>volume</th>\n",
       "    </tr>\n",
       "  </thead>\n",
       "  <tbody>\n",
       "    <tr>\n",
       "      <td>0</td>\n",
       "      <td>2004-12-02</td>\n",
       "      <td>10.10</td>\n",
       "      <td>10.25</td>\n",
       "      <td>9.85</td>\n",
       "      <td>9.95</td>\n",
       "      <td>252192</td>\n",
       "    </tr>\n",
       "    <tr>\n",
       "      <td>1</td>\n",
       "      <td>2004-12-03</td>\n",
       "      <td>9.95</td>\n",
       "      <td>9.95</td>\n",
       "      <td>9.45</td>\n",
       "      <td>9.80</td>\n",
       "      <td>47657</td>\n",
       "    </tr>\n",
       "    <tr>\n",
       "      <td>2</td>\n",
       "      <td>2004-12-06</td>\n",
       "      <td>9.75</td>\n",
       "      <td>9.75</td>\n",
       "      <td>9.50</td>\n",
       "      <td>9.60</td>\n",
       "      <td>24404</td>\n",
       "    </tr>\n",
       "    <tr>\n",
       "      <td>3</td>\n",
       "      <td>2004-12-07</td>\n",
       "      <td>9.50</td>\n",
       "      <td>9.50</td>\n",
       "      <td>9.15</td>\n",
       "      <td>9.40</td>\n",
       "      <td>22520</td>\n",
       "    </tr>\n",
       "    <tr>\n",
       "      <td>4</td>\n",
       "      <td>2004-12-08</td>\n",
       "      <td>9.40</td>\n",
       "      <td>9.40</td>\n",
       "      <td>9.10</td>\n",
       "      <td>9.35</td>\n",
       "      <td>11571</td>\n",
       "    </tr>\n",
       "  </tbody>\n",
       "</table>\n",
       "</div>"
      ],
      "text/plain": [
       "         date   open   high   low  close  volume\n",
       "0  2004-12-02  10.10  10.25  9.85   9.95  252192\n",
       "1  2004-12-03   9.95   9.95  9.45   9.80   47657\n",
       "2  2004-12-06   9.75   9.75  9.50   9.60   24404\n",
       "3  2004-12-07   9.50   9.50  9.15   9.40   22520\n",
       "4  2004-12-08   9.40   9.40  9.10   9.35   11571"
      ]
     },
     "execution_count": 3,
     "metadata": {},
     "output_type": "execute_result"
    }
   ],
   "source": [
    "pricing_df.head(5)"
   ]
  },
  {
   "cell_type": "code",
   "execution_count": 39,
   "metadata": {},
   "outputs": [],
   "source": [
    "def find_trend(df, t, label='close', show_graph=False, classification=False):\n",
    "    \"\"\"\n",
    "    Finds trend in pricing data (df) over last t days. Returns slope of the fitted straight line.\n",
    "    \"\"\"\n",
    "    y = df.tail(t)[label].to_numpy()\n",
    "    x = np.array(range(1,len(y)+1))\n",
    "    A = np.vstack([x, np.ones(len(x))]).T\n",
    "    # fits: y = ax + b\n",
    "    a, b = np.linalg.lstsq(A, y, rcond=None)[0]\n",
    "    if show_graph:\n",
    "        plt.plot(x, y, '-', label='Original data', markersize=10)\n",
    "        plt.plot(x, a*x + b, 'r', label='Fitted line')\n",
    "        plt.legend()\n",
    "        plt.show()\n",
    "    # arbitrary classification. no science here.\n",
    "    if classification:\n",
    "        if a >= -.25 and a <= .25:\n",
    "            return 'horizontal'\n",
    "        elif a > .25:\n",
    "            return 'uptrend'\n",
    "        elif a < -.25:\n",
    "            return 'downward'\n",
    "    if a >= .25:\n",
    "        return 1\n",
    "    elif a < -.25:\n",
    "        return -1\n",
    "    return 0"
   ]
  },
  {
   "cell_type": "code",
   "execution_count": 5,
   "metadata": {},
   "outputs": [
    {
     "data": {
      "image/png": "[encoded data removed]",
      "text/plain": [
       "<Figure size 432x288 with 1 Axes>"
      ]
     },
     "metadata": {
      "needs_background": "light"
     },
     "output_type": "display_data"
    },
    {
     "data": {
      "text/plain": [
       "'horizontal'"
      ]
     },
     "execution_count": 5,
     "metadata": {},
     "output_type": "execute_result"
    }
   ],
   "source": [
    "find_trend(pricing_df, 20, show_graph=True, classification=True)"
   ]
  },
  {
   "cell_type": "markdown",
   "metadata": {},
   "source": [
    "#### Support and Resistance rules:\n",
    "====================\n",
    "\n",
    "A simple trading rule based on the notion of support and resistance (S&R) is to buy when the closing price exceeds the maximum price over the previous n days,\n",
    "and sell when the closing price is less than the minimum price over the previous n days.\n",
    "\n",
    "Rather than base the rules on the maximum/minimum over a prespecified range of days, the S&R trading rules can also be based on an alternate definition of local extrema.\n",
    "That is, define a minimum/maximum to be the most recent closing price that is less/greater than the e previous closing prices.\n",
    "\n",
    "As with the MA rules, a fixed percentage band filter, b, and a time delay filter, d, can be included. Also, positions can be held for a prespecified number of days, c.\n",
    "\n",
    "Parameters:\n",
    "n - 5 number of days for the channel\n",
    "- 5, 10, 15, 20, 25, 50, 100, 150, 200, 250 (10 vals)\n",
    "\n",
    "e - used for an alternative definition of extrema\n",
    "- 2, 3, 4, 5, 10, 20, 25, 50, 100, 200 (10 vals)\n",
    "\n",
    "b - 0.001, 0.005, 0.01, 0.015, 0.02, 0.03, 0.04, 0.05 (8 vals)\n",
    "d - 2, 3, 4, 5 (4 vals)\n",
    "c - 5, 10, 25, 50 (4 vals)\n",
    "\n",
    "Number of rules:\n",
    "((1+c) (n+e)) + ((1+c) (b(n+e))) + (dc*(n+e)) = 1220"
   ]
  },
  {
   "cell_type": "code",
   "execution_count": 36,
   "metadata": {},
   "outputs": [],
   "source": [
    "def find_support_resistance(df, t, label='close', show_graph=False, e=False, b=False):\n",
    "    \"\"\"\n",
    "    df - dataframe with pricing data\n",
    "    t - look-back period\n",
    "    e - Should be int. Used for alternative supprot/resistance definition. That is, most recent closing price has \n",
    "        to be less/greater than the e previous prices.\n",
    "    b - The fixed percentage band filter requires the buy or sell signal to exceed the support/resistance by \n",
    "        a fixed multiplicative amount, b.\n",
    "        \n",
    "    If lookback period is 5, then last price is current. So it actually takes price from -1d and look 4d back\n",
    "    \"\"\"\n",
    "    y = df.tail(t)[label].to_numpy()\n",
    "    price = y[-1] # last day is treated as current\n",
    "    y = y[:-1] # look t-1 days back\n",
    "    # \"global\" definition of supp/res \n",
    "    if not e or e>t:\n",
    "        support = min(y)\n",
    "        resistance = max(y)\n",
    "    # \"local\" definition\n",
    "    elif e:\n",
    "        # support\n",
    "        past_times_smaller_than_itself = list(\n",
    "            map(lambda x: np.where(y[:x[0]]<x[1])[0].size, list(enumerate(y)))\n",
    "        )\n",
    "        smaller_than_e_xtimes_idxs = np.where(np.array(past_times_smaller_than_itself) < e)[0]\n",
    "        support_idx = max(smaller_than_e_xtimes_idxs)\n",
    "        support = y[support_idx]\n",
    "        # resistance\n",
    "        past_times_bigger_than_itself = list(\n",
    "            map(lambda x: np.where(y[:x[0]]>x[1])[0].size, list(enumerate(y)))\n",
    "        )\n",
    "        bigger_than_e_xtimes_idxs = np.where(np.array(past_times_smaller_than_itself) > e)[0]\n",
    "        resistance_idx = max(bigger_than_e_xtimes_idxs)\n",
    "        resistance = y[resistance_idx]\n",
    "    if show_graph:\n",
    "        x = np.array(range(1,len(y)+1))\n",
    "        plt.plot(x, y, '-', label='Original data', markersize=10)\n",
    "        plt.plot(x, [support for _ in x], 'green', label='Supprot')\n",
    "        plt.plot(x, [resistance for _ in x], 'red', label='Resistance')\n",
    "        plt.legend()\n",
    "        plt.show()\n",
    "        \n",
    "    if not b:\n",
    "        if price > resistance:\n",
    "            return 1\n",
    "        elif price < support:\n",
    "            return -1\n",
    "        return 0\n",
    "    if price > resistance+(resistance*b):\n",
    "        return 1\n",
    "    elif price < support-(support*b):\n",
    "        return -1\n",
    "    return 0"
   ]
  },
  {
   "cell_type": "code",
   "execution_count": 38,
   "metadata": {},
   "outputs": [
    {
     "name": "stdout",
     "output_type": "stream",
     "text": [
      "[150.5 152.5 153.3 151.1 149.2 154.  151.4 151.9 154.3]\n",
      "159.0\n"
     ]
    },
    {
     "data": {
      "image/png": "[encoded data removed]",
      "text/plain": [
       "<Figure size 432x288 with 1 Axes>"
      ]
     },
     "metadata": {
      "needs_background": "light"
     },
     "output_type": "display_data"
    },
    {
     "name": "stdout",
     "output_type": "stream",
     "text": [
      "1\n"
     ]
    }
   ],
   "source": [
    "signal = find_support_resistance(pricing_df, 10, show_graph=True, e=50, b=.01)\n",
    "print(signal)"
   ]
  },
  {
   "cell_type": "code",
   "execution_count": 9,
   "metadata": {},
   "outputs": [],
   "source": [
    "\"\"\"\n",
    "???\n",
    "\n",
    "- set of inputs and rules definition\n",
    "{\n",
    "    'formation': {key: x, params_x},\n",
    "    'contexts': [\n",
    "        {'key': 'y1', params_y1},\n",
    "        {'key': 'y2', params_y2},\n",
    "    ],\n",
    "    'constraints':[\n",
    "        {'key': 'z_1', params_z1},\n",
    "        {'key': 'z_2', params_z1},\n",
    "    ]\n",
    "}\n",
    "\n",
    "option 1:\n",
    "- apply/iterate function for:\n",
    "    - formation and all contexts\n",
    "- go over 2nd time to apply contraints\n",
    "\n",
    "option 2:\n",
    "- go over dasets just once\n",
    "    + formations, contexts etc. as you go\n",
    "    + contstraints (band filter, deley filter, holding filter) as you go\n",
    "- looks like better option to be honest...\n",
    "\n",
    "\n",
    "\n",
    "moj bactester uzywa normalnej petli (i dict a nie pd i iterrows). pytanie czy zawsze mi sie oplaca implemenotwac \n",
    "formations uzywajac jednej biblioteki... czy olac to... i uzywac roznych w zaleznosci od rule.\n",
    "(to drugie wydaje sie sensowniejsze)\n",
    "\"\"\";"
   ]
  },
  {
   "cell_type": "code",
   "execution_count": 10,
   "metadata": {},
   "outputs": [],
   "source": [
    "test_config = {\n",
    "    'rules': [\n",
    "        {\n",
    "            'id': 'trend',\n",
    "            'type': 'simple',\n",
    "            'params': {'t': 20}\n",
    "        }\n",
    "        {\n",
    "            'id': 'support/resistance',\n",
    "            'type': 'simple'\n",
    "            'params':{'t': 6, 'e': None, b=.01}\n",
    "        },\n",
    "        {\n",
    "            'id': 'support/resistance with trend',\n",
    "            'type': 'convoluted',\n",
    "            'params': '',\n",
    "            'simple_rules': ['trend', 'support/resistance']\n",
    "        }\n",
    "    ]\n",
    "    'strategy': {\n",
    "        'type': 'fixed'\n",
    "        'rules': ['support/resistance with trend', 'trend']\n",
    "    }\n",
    "}"
   ]
  },
  {
   "cell_type": "code",
   "execution_count": null,
   "metadata": {},
   "outputs": [],
   "source": []
  },
  {
   "cell_type": "code",
   "execution_count": null,
   "metadata": {},
   "outputs": [],
   "source": []
  },
  {
   "cell_type": "code",
   "execution_count": null,
   "metadata": {},
   "outputs": [],
   "source": []
  }
 ],
 "metadata": {
  "kernelspec": {
   "display_name": "Python 3",
   "language": "python",
   "name": "python3"
  },
  "language_info": {
   "codemirror_mode": {
    "name": "ipython",
    "version": 3
   },
   "file_extension": ".py",
   "mimetype": "text/x-python",
   "name": "python",
   "nbconvert_exporter": "python",
   "pygments_lexer": "ipython3",
   "version": "3.6.2+"
  }
 },
 "nbformat": 4,
 "nbformat_minor": 2
}
